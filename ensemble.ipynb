{
 "cells": [
  {
   "cell_type": "code",
   "execution_count": null,
   "metadata": {},
   "outputs": [],
   "source": [
    "import os\n",
    "import numpy as np\n",
    "import pandas as pd\n",
    "import gc"
   ]
  },
  {
   "cell_type": "code",
   "execution_count": null,
   "metadata": {},
   "outputs": [],
   "source": [
    "\n",
    "sub0 = pd.read_csv('./baseline/trending-products-weekly.csv').sort_values('customer_id').reset_index(drop=True)\n",
    "print('sub0 load')\n",
    "\n",
    "sub1 = pd.read_csv('./baseline/hnm-exponential-decay.csv').sort_values('customer_id').reset_index(drop=True)\n",
    "print('sub1 load')\n"
   ]
  },
  {
   "cell_type": "code",
   "execution_count": null,
   "metadata": {},
   "outputs": [],
   "source": [
    "sub0.columns = ['customer_id', 'prediction0']\n",
    "sub0['prediction1'] = sub1['prediction']\n",
    "\"\"\" sub0['prediction2'] = sub2['prediction']\n",
    "sub0['prediction3'] = sub3['prediction']\n",
    "sub0['prediction4'] = sub4['prediction']\n",
    "sub0['prediction5'] = sub5['prediction']\n",
    "sub0['prediction6'] = sub6['prediction']\n",
    "sub0['prediction7'] = sub7['prediction']\n",
    "sub0['prediction8'] = sub8['prediction'] \"\"\"\n",
    "\n",
    "\n",
    "del sub1\n",
    "gc.collect()\n",
    "sub0.head()"
   ]
  },
  {
   "cell_type": "code",
   "execution_count": null,
   "metadata": {},
   "outputs": [],
   "source": [
    "\n",
    "\n",
    "def cust_blend(dt, W = [1,1]):\n",
    "    #Global ensemble weights\n",
    "    #W = [1.15,0.95]\n",
    "\n",
    "    #Create a list of all model predictions\n",
    "    REC = []\n",
    "\n",
    "    # Second Try\n",
    "    REC.append(dt['prediction0'].split())\n",
    "    REC.append(dt['prediction1'].split())\n",
    "\n",
    "\n",
    "    #Create a dictionary of items recommended.\n",
    "    #Assign a weight according the order of appearance and multiply by global weights\n",
    "    res = {}\n",
    "    for M in range(len(REC)):\n",
    "        for n, v in enumerate(REC[M]):\n",
    "            if v in res:\n",
    "                res[v] += (W[M]/(n+1))\n",
    "            else:\n",
    "                res[v] = (W[M]/(n+1))\n",
    "\n",
    "    # Sort dictionary by item weights\n",
    "    res = list(dict(sorted(res.items(), key=lambda item: -item[1])).keys())\n",
    "\n",
    "    # Return the top 12 items only\n",
    "    return ' '.join(res[:12])\n",
    "\n",
    "\n",
    "\n"
   ]
  },
  {
   "cell_type": "code",
   "execution_count": null,
   "metadata": {},
   "outputs": [],
   "source": [
    "# sub0['prediction'] = sub0.apply(cust_blend, W = [0.95,1.00,0.55,0.75,0.85,0.65,1.05], axis=1)\n",
    "sub0['prediction'] = sub0.apply(cust_blend, W = [1.05,1.00], axis=1)\n",
    "sub0.head()\n",
    "\n",
    "del sub0['prediction0']\n",
    "del sub0['prediction1']\n",
    "\n",
    "gc.collect()\n",
    "\n",
    "\n",
    "sub0.to_csv('submission.csv', index=False)"
   ]
  },
  {
   "cell_type": "code",
   "execution_count": null,
   "metadata": {},
   "outputs": [],
   "source": [
    "sub = pd.read_csv('./submission.csv').sort_values('customer_id').reset_index(drop=True)\n",
    "sub.columns = ['customer_id', 'prediction']\n",
    "sub['prediction0'] = sub0['prediction']\n",
    "sub['prediction1'] = sub1['prediction']\n",
    "\n",
    "print((sub['prediction']==sub['prediction']).mean())\n",
    "print((sub['prediction']==sub['prediction0']).mean())\n",
    "print((sub['prediction']==sub['prediction1']).mean())\n"
   ]
  }
 ],
 "metadata": {
  "interpreter": {
   "hash": "c67bc8ead34800f43e51cd9100c2b9c2fb4137648af87d7b396b3bca6c1a1c51"
  },
  "kernelspec": {
   "display_name": "Python 3.7.0 64-bit",
   "language": "python",
   "name": "python3"
  },
  "language_info": {
   "codemirror_mode": {
    "name": "ipython",
    "version": 3
   },
   "file_extension": ".py",
   "mimetype": "text/x-python",
   "name": "python",
   "nbconvert_exporter": "python",
   "pygments_lexer": "ipython3",
   "version": "3.7.0"
  },
  "orig_nbformat": 4
 },
 "nbformat": 4,
 "nbformat_minor": 2
}
